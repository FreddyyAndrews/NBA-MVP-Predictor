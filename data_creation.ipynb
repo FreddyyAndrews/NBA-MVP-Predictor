{
 "cells": [
  {
   "cell_type": "markdown",
   "metadata": {},
   "source": [
    "## Create Dataset to be Used for MVP Predictions"
   ]
  },
  {
   "cell_type": "code",
   "execution_count": 1,
   "metadata": {},
   "outputs": [],
   "source": [
    "import pandas as pd\n",
    "from helper_functions import conference_mapping"
   ]
  },
  {
   "cell_type": "markdown",
   "metadata": {},
   "source": [
    "### Read CSVs into Dataframes and Select Relevant Columns"
   ]
  },
  {
   "cell_type": "code",
   "execution_count": 2,
   "metadata": {},
   "outputs": [],
   "source": [
    "# Read CSVs into Dataframes\n",
    "player_season_averages = pd.read_csv(\"data/Player Per Game.csv\")\n",
    "award_voting = pd.read_csv(\"data/Player Award Shares.csv\")\n",
    "team_season_info = pd.read_csv(\"data/Team Summaries.csv\")\n",
    "per_100_poss = pd.read_csv(\"data/Per 100 Poss.csv\")\n",
    "player_season_info = pd.read_csv(\"data/Player Season Info.csv\")\n",
    "advanced_stats = pd.read_csv(\"data/Advanced.csv\")\n",
    "\n",
    "# Filter relevant columns\n",
    "relevant_season_averages = player_season_averages[[\"seas_id\", \"season\", \"player_id\", \"lg\", \"player\", \"g\", \"fg_percent\", \"fta_per_game\", \"orb_per_game\", \"drb_per_game\", \"ast_per_game\", \"stl_per_game\", \"blk_per_game\", \"tov_per_game\", \"pts_per_game\"]]\n",
    "relevant_award_voting = award_voting[[\"seas_id\", \"player_id\", \"share\", \"award\", \"winner\", \"season\"]]\n",
    "relevant_team_info = team_season_info[[\"abbreviation\", \"team\", \"season\", \"w\", \"l\"]]\n",
    "relevant_per_100_poss = per_100_poss[[\"seas_id\", \"player_id\", \"pts_per_100_poss\"]]\n",
    "relevant_advanced_stats = advanced_stats[[\"seas_id\", \"player_id\", \"per\", \"ts_percent\", \"vorp\", \"ws\", \"bpm\"]]\n",
    "relevant_player_season_info = player_season_info[[\"seas_id\", \"player_id\", \"tm\", \"season\"]]"
   ]
  },
  {
   "cell_type": "markdown",
   "metadata": {},
   "source": [
    "### Generate Season Standings"
   ]
  },
  {
   "cell_type": "code",
   "execution_count": 3,
   "metadata": {},
   "outputs": [
    {
     "name": "stdout",
     "output_type": "stream",
     "text": [
      "  abbreviation                 team  season     w     l conference  \\\n",
      "0          BOS       Boston Celtics    1976  54.0  28.0    Eastern   \n",
      "1          NYA        New York Nets    1976  55.0  29.0    Eastern   \n",
      "2          CLE  Cleveland Cavaliers    1976  49.0  33.0    Eastern   \n",
      "3          WSB   Washington Bullets    1976  48.0  34.0    Eastern   \n",
      "4          BUF       Buffalo Braves    1976  46.0  36.0    Eastern   \n",
      "\n",
      "   winning_percentage  conference_rank  \n",
      "0            0.658537              1.0  \n",
      "1            0.654762              2.0  \n",
      "2            0.597561              3.0  \n",
      "3            0.585366              4.0  \n",
      "4            0.560976              5.0  \n"
     ]
    }
   ],
   "source": [
    "# Filter out pre Merger Data\n",
    "relevant_team_info = relevant_team_info[relevant_team_info['season'] >= 1976]\n",
    "\n",
    "# Map conference to team\n",
    "relevant_team_info['conference'] = relevant_team_info['team'].map(conference_mapping)\n",
    "\n",
    "# Calculate winning percentage\n",
    "relevant_team_info['winning_percentage'] = relevant_team_info['w'] / (relevant_team_info['w'] + relevant_team_info['l'])\n",
    "\n",
    "# Rank teams by conference\n",
    "relevant_team_info['conference_rank'] = relevant_team_info.groupby(['season', 'conference'])['winning_percentage'].rank(method='dense', ascending=False)\n",
    "\n",
    "# Sort by season, conference, and conference rank\n",
    "relevant_team_info.sort_values(by=['season', 'conference', 'conference_rank'], inplace=True)\n",
    "relevant_team_info.reset_index(drop=True, inplace=True)\n",
    "print(relevant_team_info.head(5))"
   ]
  },
  {
   "cell_type": "markdown",
   "metadata": {},
   "source": [
    "### Associate Player with Team"
   ]
  },
  {
   "cell_type": "code",
   "execution_count": 4,
   "metadata": {},
   "outputs": [],
   "source": [
    "relevant_team_info_copy = relevant_team_info.copy()\n",
    "\n",
    "relevant_team_info_copy['number_of_games_in_season'] = (relevant_team_info_copy['w'] + relevant_team_info_copy['l'])\n",
    "\n",
    "# Merge relevant_player_season_info with relevant_team_info\n",
    "player_season_record = pd.merge(relevant_player_season_info,\n",
    "                                relevant_team_info_copy,\n",
    "                                left_on=['tm', 'season'],\n",
    "                                right_on=['abbreviation', 'season'],\n",
    "                                how='left')\n",
    "\n",
    "# Drop unnecessary columns post-merge\n",
    "player_season_record.drop(['abbreviation', 'w', 'l', 'season', \"team\"], axis=1, inplace=True)"
   ]
  },
  {
   "cell_type": "markdown",
   "metadata": {},
   "source": [
    "### Create a Cumulative MVP Count Column and Combine Dataframes"
   ]
  },
  {
   "cell_type": "code",
   "execution_count": 15,
   "metadata": {},
   "outputs": [],
   "source": [
    "# Filter for Relevant Award\n",
    "relevant_award_voting = relevant_award_voting[relevant_award_voting['award'] == 'nba mvp']\n",
    "\n",
    "# Sort\n",
    "relevant_award_voting = relevant_award_voting.sort_values(by=['player_id', 'season'])\n",
    "\n",
    "# Calculate previous mvps\n",
    "relevant_award_voting['winner'] = relevant_award_voting['winner'].astype(int)\n",
    "\n",
    "relevant_award_voting['previous_mvps'] = relevant_award_voting.groupby('player_id')['winner'].cumsum().shift(fill_value=0)\n",
    "\n",
    "train_test_data = relevant_season_averages.copy()\n",
    "\n",
    "# Drop data that is not from NBA\n",
    "train_test_data = train_test_data[train_test_data['lg'] == \"NBA\"]\n",
    "\n",
    "# Drop the 'lg' column from the DataFrame\n",
    "train_test_data.drop('lg', axis=1, inplace=True)\n",
    "\n",
    "# Get relevant award voting data\n",
    "relevant_award_voting.rename(columns={'share': 'mvp_vote_share'}, inplace=True)\n",
    "\n",
    "# Merge the dataframes\n",
    "train_test_data = pd.merge(train_test_data, relevant_award_voting[['seas_id', 'player_id', 'mvp_vote_share', 'previous_mvps']], \n",
    "                         on=[\"seas_id\", \"player_id\"], \n",
    "                         how=\"left\")\n",
    "\n",
    "train_test_data['mvp_vote_share'].fillna(0, inplace=True)\n",
    "train_test_data['previous_mvps'].fillna(0, inplace=True)\n",
    "\n",
    "train_test_data = pd.merge(train_test_data, relevant_per_100_poss, \n",
    "                         on=[\"seas_id\", \"player_id\"], \n",
    "                         how=\"left\")\n",
    "\n",
    "train_test_data = pd.merge(train_test_data, relevant_advanced_stats, \n",
    "                         on=[\"seas_id\", \"player_id\"], \n",
    "                         how=\"left\")\n",
    "\n",
    "train_test_data = pd.merge(train_test_data, player_season_record,  \n",
    "                         on=[\"seas_id\", \"player_id\"], \n",
    "                         how=\"left\")\n",
    "\n",
    "train_test_data[\"percent_games_played\"] = train_test_data[\"g\"] / train_test_data[\"number_of_games_in_season\"]\n",
    "\n",
    "train_test_data['mvp_race_rank'] = train_test_data.groupby(['season'])['mvp_vote_share'].rank(method='dense', ascending=False)\n",
    "\n",
    "# Drop unnecessary columns post-merge\n",
    "train_test_data.drop(['number_of_games_in_season', 'g', 'conference'], axis=1, inplace=True)\n",
    "\n",
    "# Filter data from before merger\n",
    "data_for_prediction = train_test_data.copy()[train_test_data['season'] == 2024]\n",
    "\n",
    "train_test_data = train_test_data[train_test_data['season'] >= 1976]\n",
    "train_test_data = train_test_data[train_test_data['season'] <= 2023]"
   ]
  },
  {
   "cell_type": "markdown",
   "metadata": {},
   "source": [
    "### Clean Data and Write to CSV"
   ]
  },
  {
   "cell_type": "code",
   "execution_count": 17,
   "metadata": {},
   "outputs": [
    {
     "name": "stdout",
     "output_type": "stream",
     "text": [
      "Shape of train test data before dropping bad data: \n",
      "(21578, 26)\n",
      "Shape of prediction data before dropping bad data: \n",
      "(602, 26)\n",
      "Shape of train test data after dropping bad data: (21578, 26)\n",
      "Shape of prediction data after dropping bad data: (602, 26)\n"
     ]
    }
   ],
   "source": [
    "# Assuming df is your DataFrame\n",
    "columns_to_exclude = ['player', 'tm']\n",
    "dfs = [train_test_data, data_for_prediction]\n",
    "\n",
    "for df in dfs:\n",
    "    for column in df.columns:\n",
    "        if column not in columns_to_exclude:\n",
    "            # Remove non-numeric characters (keep digits and decimal points)\n",
    "            train_test_data[column] = train_test_data[column].astype(str).str.replace('[^\\d.]', '', regex=True)\n",
    "            # Convert to numeric, force non-convertible values to NaN (or use errors='coerce')\n",
    "            train_test_data[column] = pd.to_numeric(train_test_data[column], errors='coerce')\n",
    "\n",
    "print(\"Shape of train test data before dropping bad data: \\n\" + str(train_test_data.shape))\n",
    "\n",
    "print(\"Shape of prediction data before dropping bad data: \\n\" + str(data_for_prediction.shape))\n",
    "\n",
    "# This effectively drops all players who were traded mid season since they don't have a winning percentage, team seed etc...\n",
    "# This is no issue because no MVP has ever been traded mid season\n",
    "train_test_data.dropna(inplace=True)\n",
    "data_for_prediction.dropna(inplace=True)\n",
    "print(\"Shape of train test data after dropping bad data: \" + str(train_test_data.shape))\n",
    "print(\"Shape of prediction data after dropping bad data: \" + str(data_for_prediction.shape))\n",
    "\n",
    "train_test_data.to_csv(\"train_test_data.csv\", index=False)\n",
    "data_for_prediction.to_csv(\"data_for_prediction.csv\", index=False)"
   ]
  },
  {
   "cell_type": "markdown",
   "metadata": {},
   "source": [
    "### Sanity Check"
   ]
  },
  {
   "cell_type": "code",
   "execution_count": 18,
   "metadata": {},
   "outputs": [
    {
     "name": "stdout",
     "output_type": "stream",
     "text": [
      "                 player  season  mvp_vote_share  previous_mvps  mvp_race_rank\n",
      "6006      Stephen Curry    2016           1.000            1.0            1.0\n",
      "15033  Shaquille O'Neal    2000           0.998            0.0            1.0\n",
      "7696       LeBron James    2013           0.998            3.0            1.0\n",
      "12806     Kevin Garnett    2004           0.991            0.0            1.0\n",
      "17101    Michael Jordan    1996           0.986            3.0            1.0\n",
      "7066       Kevin Durant    2014           0.986            0.0            1.0\n",
      "21469        Larry Bird    1986           0.981            2.0            1.0\n",
      "9424       LeBron James    2010           0.980            1.0            1.0\n",
      "21833        Larry Bird    1985           0.978            1.0            1.0\n",
      "8629       Derrick Rose    2011           0.977            0.0            1.0\n"
     ]
    }
   ],
   "source": [
    "# Assuming df is your DataFrame\n",
    "top_10_mvp_votes = train_test_data.sort_values(by='mvp_vote_share', ascending=False).head(10)\n",
    "\n",
    "print(top_10_mvp_votes[['player', 'season', 'mvp_vote_share', \"previous_mvps\", \"mvp_race_rank\"]])"
   ]
  }
 ],
 "metadata": {
  "kernelspec": {
   "display_name": "myenv",
   "language": "python",
   "name": "python3"
  },
  "language_info": {
   "codemirror_mode": {
    "name": "ipython",
    "version": 3
   },
   "file_extension": ".py",
   "mimetype": "text/x-python",
   "name": "python",
   "nbconvert_exporter": "python",
   "pygments_lexer": "ipython3",
   "version": "3.9.18"
  }
 },
 "nbformat": 4,
 "nbformat_minor": 2
}
